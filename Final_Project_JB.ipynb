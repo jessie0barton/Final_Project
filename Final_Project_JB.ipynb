{
 "cells": [
  {
   "cell_type": "code",
   "execution_count": 5,
   "metadata": {},
   "outputs": [],
   "source": [
    "#import packages needed for entire file\n",
    "import tweepy\n",
    "import GetOldTweets3 as got\n",
    "import csv\n",
    "import pandas as pd\n",
    "import random \n",
    "import numpy\n",
    "import json\n",
    "\n",
    "# Set Twitter authentication\n",
    "from twitter_authentication import CONSUMER_KEY, CONSUMER_SECRET, ACCESS_TOKEN, ACCESS_TOKEN_SECRET\n",
    "\n",
    "auth = tweepy.OAuthHandler(CONSUMER_KEY, CONSUMER_SECRET)\n",
    "auth.set_access_token(ACCESS_TOKEN, ACCESS_TOKEN_SECRET)\n",
    "\n",
    "api = tweepy.API(auth, wait_on_rate_limit = True, wait_on_rate_limit_notify=True)"
   ]
  },
  {
   "cell_type": "markdown",
   "metadata": {},
   "source": [
    "# Spreading a virus: Incubating the 'Plandemic' conspiracy theory\n",
    "\n",
    "## Introduction\n",
    "\n",
    "### Plandemic\n",
    "\n",
    "   On May 4, 2020, more than five months after the first confirmed case of the 2019 Novel Coronavirus, a 26-minute documentary titled “Plandemic” was released online (Frenkel & Alba, 2020). The video presented an interview with discredited scientist, Dr. Judy Mikovits, in which she explains that health organizations, “big pharma,” and the government are all bad actors behind the global coronavirus pandemic. She explains why she was removed from her scientific positions by claiming she was wrongly blamed for stealing lab information and accuses Dr. Anthony Fauci of being responsible for the deaths of millions of HIV/AIDs patients (Enserink & Cohen, 2020). Then she proposes a conspiracy theory about COVID-19, which includes claims that the virus was manipulated and created by doctors in a North Carolina lab, flu vaccines increase the odds of getting COVID-19 by 36%, and wearing a mask activates the virus and makes the individual more vulnerable to contract the virus (Funke, 2020).\n",
    "\n",
    "   “Plandemic” was viewed more than eight million times in the first week of its online presence. However, its availability was short-lived. YouTube and Facebook soon began taking down the videos due to its misinformation about Coronavirus (Frenkel & Alba, 2020). Despite the effort maintained by the social media sites, individuals continued to upload new videos, share the information, and perpetuate the conspiracy theories in “Plandemic.”\n",
    "    \n",
    "   On the same day as the release of \"Plandemic\", the global death count from COVID-19 was approaching 250,000. Six weeks later the global death count was greater than 408,000. The spread of misinformation about a virus that was/is still in the peak of its destruction is harmful to populations. The spread of misinformation has the potential to lead people to make decisions that are destructive to their health and the health of their communities. This study seeks to use cultivation theory to understand how an individual’s Twitter friends might have affected their decision to share the documentary and documents the networks of the individuals who chose to spread the conspiracy theory. \n",
    "\n",
    "### Cultivation Theory\n",
    "\n",
    "   Gerbner and Gross (1976) introduced cultivation theory to explain why individuals who are exposed to certain attitudes and behaviors on television, become normalized to those behaviors in their real life. Four decades later, cultivation theory is still highly utilized in communication research (Bryant & Miron, 2004) since individuals continue to absorb media through watching television, online videos, and social media. However, cultivation theory has not made strides in the social media sphere. There is potential that the media a person absorbs through social media assists in the creation of attitudes and beliefs about the world. This study will examine the social relationships (followers and friends), of the individuals who shared the “Plandemic” documentary. This research provides insight into how Twitter friends influence attitudes and behaviors about COVID-19 and the \"Plandemic\" documentary.\n",
    "   \n",
    " ### Research Questions\n",
    " \n",
    "   The research done in this study is guided by cultivation theory and two research questions:\n",
    "   - RQ1: Which Twitter accounts are most followed by Plandemic tweeters?\n",
    "   - RQ2: What is the breadth of accounts that Plandemic tweeters follow?\n",
    "   "
   ]
  },
  {
   "cell_type": "markdown",
   "metadata": {},
   "source": [
    "## Methods\n",
    "\n",
    "   This study identifies the friends (accounts followed by Twitter users) of two groups; 1. the experimental, \"Plandemic\" tweeters group and 2. the control, Netflix \"Explained\" group. Netflix \"Explained\" is a documentary series produced by Netflix that provides information about several different topics. This was selected as the control because it has a similar educational tone to \"Plandemic\" and presents information in a similar video format. \n",
    "   \n",
    "   To conduct this study, Python 3.0 was utilized to gather, analyze, and visualize all data. First, I gathered tweets. Then, I collected the usernames of the users who published the tweets. Next, I selected a random sample (n=100) from whom to get friends lists. Then, I counted the number of occurances for each friend and sorted the list to show who was the most followed by each group. Finally, I manually searched for the top 30 friends and coded each type of account into categories.\n",
    "   \n",
    "   The details of each step is outlined below:\n",
    "   \n",
    "   I used the Python package \"GetOldTweets3\" to collect tweets based on a set search criteria. For the \"Plandemic\" tweets, the search criteria was as follows: contains \"plandemic AND youtu.be OR bitchute OR Vimeo\", shared between May 5, 2020, and May 9, 2020, with a maximum collection count of 10,000. This search criteria was set to include all tweets that shared the actual link to the video. "
   ]
  },
  {
   "cell_type": "code",
   "execution_count": null,
   "metadata": {},
   "outputs": [],
   "source": [
    "# !! CAUTION !! This cell collects a large amount of data and takes a long time to run\n",
    "\n",
    "# Set search criteria\n",
    "tweetCriteria  = got.manager.TweetCriteria().setQuerySearch('plandemic AND youtu.be OR bitchute OR Vimeo').setSince('2020-05-04').setUntil('2020-05-09').setMaxTweets(10000)\n",
    "\n",
    "# Get tweets from the search\n",
    "tweets = got.manager.TweetManager.getTweets(tweetCriteria)\n",
    "print('Tweets collected!')"
   ]
  },
  {
   "cell_type": "markdown",
   "metadata": {},
   "source": [
    "After the tweets were collected, I wrote the collected tweets to a .csv file to store the data. The tweets were filtered to exclude fact checks to avoid including any videos that may have been a link to a fact check video about Plandemic. The file stores the tweet text, username, date, retweet count, and favorite counts."
   ]
  },
  {
   "cell_type": "code",
   "execution_count": null,
   "metadata": {},
   "outputs": [],
   "source": [
    "# !! CAUTION !! This cell overwrites a file \n",
    "\n",
    "# Counter for progress\n",
    "counter = 0\n",
    "\n",
    "for tweet in tweets:\n",
    "    counter += 1\n",
    "    if counter % 1000 == 0:\n",
    "        print('%d tweets written' % counter) # Prints statement when 1,000 tweets are printed\n",
    "        \n",
    "    # Filter tweets    \n",
    "    if ('fact-checks' not in tweet.text) and ('fact checks' not in tweet.text) and ('fact check' not in tweet.text) and ('fact-check' not in tweet.text):\n",
    "          \n",
    "        # Write csv file\n",
    "        with open('tweets_plandemic.csv', 'w', encoding = 'utf-8') as fn:                    \n",
    "            f = csv.writer(fn)\n",
    "            f.writerow(['tweet_text',\n",
    "                        'username',\n",
    "                        'date',\n",
    "                        'retweets',\n",
    "                        'favorites'\n",
    "                       ])\n",
    "            for tweet in tweets:\n",
    "                f.writerow([tweet.text, \n",
    "                            tweet.username,\n",
    "                            tweet.date,\n",
    "                            tweet.retweets,\n",
    "                            tweet.favorites\n",
    "                                 ])"
   ]
  },
  {
   "cell_type": "markdown",
   "metadata": {},
   "source": [
    "   For the \"Explained\" tweets, the search criteria was as follows: contains \"Netflix Explained OR netflixexplained\", shared between January 1, 2020, and May 30, 2020, with a maximum collection count of 10,000. The date range was expanded for the \"Explained\" tweets because there were fewer tweets and the larger range allowed for a collection of 10,000 tweets. "
   ]
  },
  {
   "cell_type": "code",
   "execution_count": null,
   "metadata": {},
   "outputs": [],
   "source": [
    "# !! CAUTION !! This cell collects a large amount of data and takes a long time to run\n",
    "\n",
    "# Set search criteria\n",
    "tweetCriteria_netflix  = got.manager.TweetCriteria().setQuerySearch('Netflix Explained OR Netflixexplained ').setSince('2020-01-01').setUntil('2020-05-30').setMaxTweets(10000)\n",
    "\n",
    "# Get tweets from the search\n",
    "tweets = got.manager.TweetManager.getTweets(tweetCriteria_netflix)\n",
    "print('Tweets collected!')"
   ]
  },
  {
   "cell_type": "markdown",
   "metadata": {},
   "source": [
    "The \"Explained\" tweets text, usernames, dates, retweet and favorite counts were stored in a seperate .csv file."
   ]
  },
  {
   "cell_type": "code",
   "execution_count": null,
   "metadata": {},
   "outputs": [],
   "source": [
    "# !! CAUTION !! This cell overwrites a file \n",
    "# Counter for Progress\n",
    "counter = 0\n",
    "\n",
    "for tweet in tweets:\n",
    "    counter += 1\n",
    "    if counter % 1000 == 0:\n",
    "        print('%d tweets written' % counter) # Prints statement when 1,000 tweets are printed\n",
    "\n",
    "    # Write csv file\n",
    "    with open('tweets_explained.csv', 'w', encoding = 'utf-8') as fn:                    \n",
    "        f = csv.writer(fn)\n",
    "        f.writerow(['tweet_text',\n",
    "                    'username',\n",
    "                    'date',\n",
    "                    'retweets',\n",
    "                    'favorites'\n",
    "                   ])\n",
    "        for tweet in tweets:\n",
    "            f.writerow([tweet.text, \n",
    "                        tweet.username,\n",
    "                        tweet.date,\n",
    "                        tweet.retweets,\n",
    "                        tweet.favorites\n",
    "                             ])"
   ]
  },
  {
   "cell_type": "markdown",
   "metadata": {},
   "source": [
    "From each of the files, I collected the usernames from each of the tweeters. "
   ]
  },
  {
   "cell_type": "code",
   "execution_count": 3,
   "metadata": {},
   "outputs": [],
   "source": [
    "df_tweets_pl = pd.read_csv('tweets_plandemic.csv')\n",
    "\n",
    "#Obtain unique instances of usernames\n",
    "pl_username_list = df_tweets_pl.username.unique()\n",
    "\n",
    "df_tweets_ex = pd.read_csv('tweets_explained.csv')\n",
    "\n",
    "#Obtain unique instances of usernames\n",
    "ex_username_list = df_tweets_ex.username.unique()"
   ]
  },
  {
   "cell_type": "markdown",
   "metadata": {},
   "source": [
    "From each list of usernames, I selected a random sample of 100 usernames."
   ]
  },
  {
   "cell_type": "code",
   "execution_count": null,
   "metadata": {},
   "outputs": [],
   "source": [
    "# !! CAUTION !! This cell resets the random usernames used for data collection\n",
    "\n",
    "# Set sample size; for time purposes, limited to 100 here\n",
    "sample_size = 100\n",
    "\n",
    "pl_random_sample_usernames = np.random.choice(pl_username_list, sample_size)\n",
    "ex_random_sample_usernames = np.random.choice(ex_username_list, sample_size) "
   ]
  },
  {
   "cell_type": "markdown",
   "metadata": {},
   "source": [
    "Then, I gathered the complete friends list of each of the 100 usernames (if available) and stored in seperate .json files. This process takes 100 minutes due to Twitter's rate limit. "
   ]
  },
  {
   "cell_type": "code",
   "execution_count": null,
   "metadata": {},
   "outputs": [],
   "source": [
    "# !! CAUTION !! This cell collects a large amount of data and takes a long time to run\n",
    "\n",
    "# Create dictionary of usernames\n",
    "pl_friends_list = {}\n",
    "\n",
    "# Collect the friend ids of each username\n",
    "for username in pl_random_sample_usernames: \n",
    "    try:\n",
    "        pl_friends = []\n",
    "        for page in tweepy.Cursor(api.friends_ids, username).pages():\n",
    "            pl_friends.extend(page)\n",
    "            if len(page) == 5000: \n",
    "                time.sleep(2)  # if len(page) > 5000 a new page is loaded, sleep to avoid Twitter API rate limit\n",
    "        \n",
    "        pl_friends_list[username] = pl_friends\n",
    "        \n",
    "        # Show progress of the pass by printing the number collected and length of friends list\n",
    "        print(len(pl_friends_list.keys()), len(pl_friends))\n",
    "    except:\n",
    "        pass\n",
    "    \n",
    "# Write results to a .json file    \n",
    "with open('sample-plandemic-tweeters-friends.json', 'w') as f:\n",
    "    json.dump(pl_friends_list,f)"
   ]
  },
  {
   "cell_type": "code",
   "execution_count": null,
   "metadata": {},
   "outputs": [],
   "source": [
    "# !! CAUTION !! This cell collects a large amount of data and takes a long time to run\n",
    "\n",
    "# Create dictionary of usernames\n",
    "ex_friends_list = {}\n",
    "\n",
    "# Collect the friend ids of each username\n",
    "for username in ex_random_sample_usernames: \n",
    "    try:\n",
    "        ex_friends = []\n",
    "        for page in tweepy.Cursor(api.friends_ids, username).pages():\n",
    "            ex_friends.extend(page)\n",
    "            if len(page) == 5000: \n",
    "                time.sleep(2)  # if len(page) > 5000 a new page is loaded, sleep to avoid Twitter API rate limit\n",
    "        \n",
    "        ex_friends_list[username] = ex_friends\n",
    "        \n",
    "        # Show progress of the pass by printing the number collected and length of friends list\n",
    "        print(len(ex_friends_list.keys()), len(ex_friends))\n",
    "    except:\n",
    "        pass\n",
    "    \n",
    "# Write results to a .json file    \n",
    "with open('sample-explained-tweeters-friends.json', 'w') as f:\n",
    "    json.dump(ex_friends_list,f)\n"
   ]
  },
  {
   "cell_type": "markdown",
   "metadata": {},
   "source": [
    "With this code, I was able to collect the friends lists of 94 \"Plandemic\" tweeters and 98 \"Explained\" tweeters. For the purposes of this project, I've decided to keep the sample at 100, but if I were to publish this report, I believe the sample size should be closer to 350. "
   ]
  },
  {
   "cell_type": "code",
   "execution_count": 112,
   "metadata": {},
   "outputs": [],
   "source": [
    "with open('sample-plandemic-tweeters-friends.json') as json_file:\n",
    "    plandemic_friends = json.load(json_file)\n",
    "    \n",
    "with open('sample-explained-tweeters-friends.json') as json_file:\n",
    "    explained_friends = json.load(json_file)"
   ]
  },
  {
   "cell_type": "code",
   "execution_count": 113,
   "metadata": {},
   "outputs": [
    {
     "name": "stdout",
     "output_type": "stream",
     "text": [
      "94 98\n"
     ]
    }
   ],
   "source": [
    "pl_sample_size = len(plandemic_friends)\n",
    "ex_sample_size = len(explained_friends)\n",
    "print(pl_sample_size, ex_sample_size)"
   ]
  },
  {
   "cell_type": "markdown",
   "metadata": {},
   "source": [
    "After collecting the friends lists of the \"Plandemic\" and \"Explained\" tweeters, I created a flat list of the friends and used Counter from the Python package Collections to identify the top 30 friends who were most followed by both of the groups. "
   ]
  },
  {
   "cell_type": "code",
   "execution_count": 139,
   "metadata": {},
   "outputs": [],
   "source": [
    "# Set values to be equal to variable\n",
    "a=plandemic_friends.values()\n",
    "b=explained_friends.values()\n",
    "\n",
    "# Create an empty list \n",
    "pl_flat_list_friends = []\n",
    "ex_flat_list_friends = []\n",
    "\n",
    "# Add each value into respective list\n",
    "for element in a:\n",
    "    for item in element:\n",
    "        pl_flat_list_friends.append(item)\n",
    "        \n",
    "for element in b:\n",
    "    for item in element:\n",
    "        ex_flat_list_friends.append(item)"
   ]
  },
  {
   "cell_type": "markdown",
   "metadata": {},
   "source": [
    "For sake of time, I only retrieved the usernames of the top 30 friends for each group. "
   ]
  },
  {
   "cell_type": "code",
   "execution_count": 140,
   "metadata": {},
   "outputs": [],
   "source": [
    "from collections import Counter\n",
    "\n",
    "# Count occurances of friends\n",
    "pl_counted_friends = Counter(pl_flat_list_friends)\n",
    "\n",
    "# Put the top 30 friends in a list \n",
    "pl_top_30_friends = pl_counted_friends.most_common(30)"
   ]
  },
  {
   "cell_type": "code",
   "execution_count": 141,
   "metadata": {},
   "outputs": [],
   "source": [
    "# Create an empty dictionary for the top 30 friends \n",
    "pl_top_30_friends_usernames = []\n",
    "\n",
    "# Identify the first element of the Counter tuple\n",
    "pl_top_30_friends_ids = [i[0] for i in pl_top_30_friends]\n",
    "\n",
    "#Retrieve the username of each friend \n",
    "for user_id in pl_top_30_friends_ids:\n",
    "    u = api.get_user(user_id)\n",
    "    pl_top_30_friends_usernames.append(u.screen_name)\n",
    "    \n",
    "# Write the results to a csv\n",
    "with open('stats-plandemic-tweeters.csv', 'w', encoding = 'utf-8') as fn:\n",
    "    f = csv.writer(fn)\n",
    "    f.writerow(['friend',\n",
    "                'count',                \n",
    "                ])\n",
    "    for key, count in pl_counted_friends.items():\n",
    "        friend = key\n",
    "        f.writerow([friend, count])"
   ]
  },
  {
   "cell_type": "markdown",
   "metadata": {},
   "source": [
    "This process was repeated for the \"Explained\" group."
   ]
  },
  {
   "cell_type": "code",
   "execution_count": 142,
   "metadata": {},
   "outputs": [],
   "source": [
    "# Count occurances of friends\n",
    "ex_counted_friends = Counter(ex_flat_list_friends)\n",
    "\n",
    "# Put the top 30 friends in a list \n",
    "ex_top_30_friends = ex_counted_friends.most_common(30)"
   ]
  },
  {
   "cell_type": "code",
   "execution_count": 143,
   "metadata": {},
   "outputs": [],
   "source": [
    "# Create an empty dictionary for the top 30 friends \n",
    "ex_top_30_friends_usernames = []\n",
    "\n",
    "# Identify the first element of the Counter tuple\n",
    "ex_top_30_friends_ids = [i[0] for i in ex_top_30_friends]\n",
    "\n",
    "# Loop over each user id in the top 30 friends and retrieve the corresponding username\n",
    "for user_id in ex_top_30_friends_ids:\n",
    "    x = api.get_user(user_id)\n",
    "    ex_top_30_friends_usernames.append(x.screen_name)\n",
    "\n",
    "# Write the results to a csv\n",
    "with open('stats-explained-tweeters.csv', 'w', encoding = 'utf-8') as fn:\n",
    "    f = csv.writer(fn)\n",
    "    f.writerow(['friend',\n",
    "                'count',\n",
    "               ])\n",
    "    for key, count in ex_counted_friends.items():\n",
    "        friend = key\n",
    "        f.writerow([friend, \n",
    "                    count,\n",
    "                    ])"
   ]
  },
  {
   "cell_type": "markdown",
   "metadata": {},
   "source": [
    "The list of friend ids and corresponding counts were written into a .csv file. I manually added a new column to the dataframe with the corresponding username. "
   ]
  },
  {
   "cell_type": "code",
   "execution_count": 145,
   "metadata": {},
   "outputs": [
    {
     "name": "stderr",
     "output_type": "stream",
     "text": [
      "C:\\Users\\jessi\\Python3\\lib\\site-packages\\ipykernel_launcher.py:10: SettingWithCopyWarning: \n",
      "A value is trying to be set on a copy of a slice from a DataFrame.\n",
      "Try using .loc[row_indexer,col_indexer] = value instead\n",
      "\n",
      "See the caveats in the documentation: http://pandas.pydata.org/pandas-docs/stable/user_guide/indexing.html#returning-a-view-versus-a-copy\n",
      "  # Remove the CWD from sys.path while we load stuff.\n",
      "C:\\Users\\jessi\\Python3\\lib\\site-packages\\ipykernel_launcher.py:11: SettingWithCopyWarning: \n",
      "A value is trying to be set on a copy of a slice from a DataFrame.\n",
      "Try using .loc[row_indexer,col_indexer] = value instead\n",
      "\n",
      "See the caveats in the documentation: http://pandas.pydata.org/pandas-docs/stable/user_guide/indexing.html#returning-a-view-versus-a-copy\n",
      "  # This is added back by InteractiveShellApp.init_path()\n"
     ]
    }
   ],
   "source": [
    " # Open the csv as a dataframe\n",
    "plandemic_stats_df = pd.read_csv('stats-plandemic-tweeters.csv')\n",
    "explained_stats_df = pd.read_csv('stats-explained-tweeters.csv')\n",
    "\n",
    "\n",
    "# Sort the values in order of count \n",
    "plandemic_friends_sorted = plandemic_stats_df.sort_values('count', ascending = False)\n",
    "\n",
    "# Create a top 30 list \n",
    "pl_top_30 = plandemic_friends_sorted.iloc[:30]\n",
    "\n",
    "# Sort the values in order of count \n",
    "explained_friends_sorted = explained_stats_df.sort_values('count', ascending = False)\n",
    "\n",
    "# Create a top 30 list\n",
    "ex_top_30 = explained_friends_sorted.iloc[:30]\n",
    "\n",
    "# Add Username column to dataframe\n",
    "pl_top_30['Username'] = pl_top_30_friends_usernames\n",
    "ex_top_30['Username'] = ex_top_30_friends_usernames"
   ]
  },
  {
   "cell_type": "markdown",
   "metadata": {},
   "source": [
    "I manually examined the Twitter accounts of the top 30 freinds and created a list of their categories to include in the data frame."
   ]
  },
  {
   "cell_type": "markdown",
   "metadata": {},
   "source": [
    "Both of these lists were then written to a .csv file. "
   ]
  },
  {
   "cell_type": "code",
   "execution_count": 146,
   "metadata": {},
   "outputs": [],
   "source": [
    "pl_top_30.to_csv('top-30-plandemic.csv')\n",
    "ex_top_30.to_csv('top-30-explained.csv')"
   ]
  },
  {
   "cell_type": "code",
   "execution_count": 144,
   "metadata": {},
   "outputs": [],
   "source": [
    "# Manually list each of the friends' Twitter account category \n",
    "\n",
    "pl_categories = ['Trump Administration', 'Trump Administration', \n",
    "                 'Conservative Personality', 'Trump Administration', \n",
    "                 'Trump Administration','Trump Administration', 'Trump Administration',\n",
    "                 'Conservative Personality', 'Conservative Group', \n",
    "                'Celebrity', 'Conservative Personality', 'Trump Administration', \n",
    "                 'Trump Administration', 'Conservative Personality',\n",
    "                'Conservative News Network', 'Trump Administration', 'Conservative Personality', \n",
    "                 'Trump Administration', 'Conservative Personality',\n",
    "                'Conservative Group', 'Trump Administration', \n",
    "                 'Conservative Group', 'Conservative Personality', 'Conservative Personality', \n",
    "                'Conservative Personality', 'Conservative Personality', \n",
    "                 'Conservative Personality', 'Organization', 'Trump Administration', 'Conservative News Network'\n",
    "                ]\n",
    "ex_categories = ['Obama Administration', 'Celebrity', 'Democratic Politician', \n",
    "                 'Mainstream News Network', 'Entrepreneur',\n",
    "                'Democratic Politician', 'Obama Administration', 'Mainstream News Network', \n",
    "                 'Trump Administration', 'Celebrity', 'Mainstream News Network',\n",
    "                'Celebrity', 'Organization', 'Celebrity', 'Celebrity', 'Celebrity',\n",
    "                'Company', 'Celebrity', 'Company', 'Celebrity', 'Celebrity',\n",
    "                'Mainstream News Network', 'Democratic Politician', 'Trump Administration', \n",
    "                 'Mainstream News Network', 'Celebrity', 'Company',\n",
    "                'Obama Administration', 'Company', 'Celebrity']\n"
   ]
  },
  {
   "cell_type": "code",
   "execution_count": 147,
   "metadata": {},
   "outputs": [],
   "source": [
    "# Open the file and create new dataframe\n",
    "pl_df =pd.read_csv('top-30-plandemic.csv')\n",
    "ex_df =pd.read_csv('top-30-explained.csv')"
   ]
  },
  {
   "cell_type": "markdown",
   "metadata": {},
   "source": [
    "I added additional columns of information including the type of tweet (\"Plandemic v. \"Explained\"), rank, percentage of sample that follows each friend, and category of Twitter account for each friend. "
   ]
  },
  {
   "cell_type": "code",
   "execution_count": 148,
   "metadata": {},
   "outputs": [],
   "source": [
    "# Add additional columns to the data frame\n",
    "pl_df['tweet_type'] ='Plandemic'\n",
    "pl_df['rank'] = range(1,31)\n",
    "pl_df['percentage_followed'] = pl_df['count']/pl_sample_size*100\n",
    "pl_df['category'] =pl_categories"
   ]
  },
  {
   "cell_type": "code",
   "execution_count": 149,
   "metadata": {},
   "outputs": [],
   "source": [
    "# Add additional columns to the data frame\n",
    "ex_df['tweet_type']='Explained'\n",
    "ex_df['rank'] = range(1,31)\n",
    "ex_df['percentage_followed'] = ex_df['count']/ex_sample_size*100\n",
    "ex_df['category'] =ex_categories\n",
    "\n",
    "#For graphing purposes, I needed to hack one Username to make the visual as I'd like\n",
    "ex_df.loc[8,'Username'] = ' realDonaldTrump'"
   ]
  },
  {
   "cell_type": "markdown",
   "metadata": {},
   "source": [
    "I combined the dataframes to provide one table for analysis and sorted it by rank."
   ]
  },
  {
   "cell_type": "code",
   "execution_count": 150,
   "metadata": {},
   "outputs": [],
   "source": [
    "# Combine the two data frames into a larger df\n",
    "frames = [pl_df, ex_df]\n",
    "combined_df = pd.concat(frames)"
   ]
  },
  {
   "cell_type": "code",
   "execution_count": 151,
   "metadata": {},
   "outputs": [],
   "source": [
    "# Set order of the dataframe for graphing purposes \n",
    "combined_df = combined_df.sort_values(['rank', 'tweet_type'], ascending=(True,False))"
   ]
  },
  {
   "cell_type": "markdown",
   "metadata": {},
   "source": [
    "## Results"
   ]
  },
  {
   "cell_type": "code",
   "execution_count": 169,
   "metadata": {},
   "outputs": [],
   "source": [
    "import seaborn as sns\n",
    "import matplotlib.pyplot as plt"
   ]
  },
  {
   "cell_type": "markdown",
   "metadata": {},
   "source": [
    "I collected 10,000 tweets for each of the tweet types (\"Plandemic\" and \"Explained\"). The \"Plandemic\" tweets were retweeted 9,435 times and favorited 15,676 times. The \"Explained\" tweets were retweeted 12,014 times and favorited 61,703 times.  "
   ]
  },
  {
   "cell_type": "code",
   "execution_count": 154,
   "metadata": {},
   "outputs": [],
   "source": [
    "# Add up the retweet and favorite counts for the orginal tweets collected\n",
    "\n",
    "pl_df_tweets=pd.read_csv('tweets_plandemic.csv')\n",
    "pl_retweet_count=pl_df_tweets.retweets.sum()\n",
    "pl_favorite_count=pl_df_tweets.favorites.sum()\n",
    "\n",
    "ex_df_tweets=pd.read_csv('tweets_explained.csv')\n",
    "ex_retweet_count=ex_df_tweets.retweets.sum()\n",
    "ex_favorite_count=ex_df_tweets.favorites.sum()"
   ]
  },
  {
   "cell_type": "code",
   "execution_count": 178,
   "metadata": {},
   "outputs": [
    {
     "data": {
      "text/plain": [
       "<matplotlib.legend.Legend at 0x2736b128788>"
      ]
     },
     "execution_count": 178,
     "metadata": {},
     "output_type": "execute_result"
    },
    {
     "data": {
      "image/png": "[encoded data removed]",
      "text/plain": [
       "<Figure size 432x288 with 1 Axes>"
      ]
     },
     "metadata": {},
     "output_type": "display_data"
    }
   ],
   "source": [
    "# Create dataframe to graph the retweets and favorites\n",
    "fav_ret_df=pd.DataFrame({'tweet_type': ['Plandemic', 'Plandemic',\n",
    "                                      'Explained', 'Explained'],\n",
    "                         'engagement': ['Favorite', 'Retweet',\n",
    "                                      'Favorite', 'Retweet'],\n",
    "                         'count': [pl_favorite_count, pl_retweet_count,\n",
    "                                   ex_favorite_count, ex_retweet_count]\n",
    "                        })\n",
    "\n",
    "# Graph results \n",
    "sns.set(style='whitegrid')\n",
    "ax = sns.barplot(x='engagement', y = 'count', palette = 'Set2', hue = 'tweet_type', data = fav_ret_df)\n",
    "#plt.xticks(rotation =90)\n",
    "ax.set(xlabel = 'Engagement Type', ylabel = 'Sum of Counts', title = 'Favorite and Retweet Counts of \"Plandemic\" and \"Explained\" tweets')\n",
    "ax.legend(title = False)"
   ]
  },
  {
   "cell_type": "markdown",
   "metadata": {},
   "source": [
    "From these tweets, I collected all unique usernames. There are 8,740 \"Plandemic\" usernames and 9148 \"Explained\" usernames. From each of these lists, a random sample of 100 usernames was used for the analysis of friends for each group. "
   ]
  },
  {
   "cell_type": "code",
   "execution_count": 180,
   "metadata": {},
   "outputs": [
    {
     "name": "stdout",
     "output_type": "stream",
     "text": [
      "8740\n",
      "9148\n"
     ]
    }
   ],
   "source": [
    "# Get total count of unique usernames \n",
    "print(len(pl_username_list))\n",
    "print(len(ex_username_list))"
   ]
  },
  {
   "cell_type": "markdown",
   "metadata": {},
   "source": [
    "I obtained the number of friends for each list and calculated the mean number of friends for each group. The \"Plandemic\" tweeters follow a total of 81,282 Twitter users (M = 864.70) and the \"Explained\" tweeters follow 64,079 Twitter accounts (M = 653.87)."
   ]
  },
  {
   "cell_type": "code",
   "execution_count": 191,
   "metadata": {},
   "outputs": [
    {
     "name": "stdout",
     "output_type": "stream",
     "text": [
      "\"Plandemic\" friends: 81282 Mean: 864.7021276595744\n",
      "\"Explained\" friends: 64079 Mean: 653.8673469387755\n"
     ]
    }
   ],
   "source": [
    "# Find the mean number of friends for each group \n",
    "pl_mean = len(pl_flat_list_friends)/len(a)\n",
    "ex_mean = len(ex_flat_list_friends)/len(b)\n",
    "\n",
    "print('\"Plandemic\" friends:' , len(pl_flat_list_friends), 'Mean:', pl_mean)\n",
    "print('\"Explained\" friends:' ,len(ex_flat_list_friends), 'Mean:', ex_mean)\n"
   ]
  },
  {
   "cell_type": "code",
   "execution_count": 208,
   "metadata": {},
   "outputs": [
    {
     "data": {
      "text/plain": [
       "[Text(0, 0.5, 'Number of Friends'),\n",
       " Text(0.5, 1.0, 'Average number of Friends')]"
      ]
     },
     "execution_count": 208,
     "metadata": {},
     "output_type": "execute_result"
    },
    {
     "data": {
      "image/png": "[encoded data removed]",
      "text/plain": [
       "<Figure size 432x288 with 1 Axes>"
      ]
     },
     "metadata": {},
     "output_type": "display_data"
    }
   ],
   "source": [
    "# Create dataframe to graph mean friend count\n",
    "mean_friends_df = pd.DataFrame({'Mean # Friends': [pl_mean, ex_mean]},\n",
    "                                index = ['Plandemic', 'Explained'])\n",
    "\n",
    "# Graph results \n",
    "sns. set(style = 'whitegrid')\n",
    "ay = mean_friends_df.plot.bar(color='lightsalmon', legend=False)\n",
    "plt.xticks(rotation = 0)\n",
    "ay.set(ylabel= 'Number of Friends', title = 'Average number of Friends')"
   ]
  },
  {
   "cell_type": "markdown",
   "metadata": {},
   "source": [
    "Interestingly, \"Plandemic\" tweeters, on average, have more friends than \"Explained\" tweeters; however, \"Plandemic\" tweeters follow more of the same people than the \"Explained\" tweeters."
   ]
  },
  {
   "cell_type": "code",
   "execution_count": 230,
   "metadata": {},
   "outputs": [
    {
     "data": {
      "image/png": "[encoded data removed]",
      "text/plain": [
       "<Figure size 720x1080 with 2 Axes>"
      ]
     },
     "metadata": {},
     "output_type": "display_data"
    }
   ],
   "source": [
    "# Identify percentage of friends that are followed by more than one \"Plandemic\" tweeter\n",
    "pl_common_friends = len(pl_flat_list_friends)-len(pl_counted_friends)\n",
    "pl_percent_common = pl_common_friends/len(pl_flat_list_friends)*100\n",
    "pl_percent_unique = 100-pl_percent_common\n",
    "\n",
    "# Identify percentage of friends that are followed by more than one \"Explained\" tweeter \n",
    "ex_common_friends = len(ex_flat_list_friends)-len(ex_counted_friends)\n",
    "ex_percent_common = ex_common_friends/len(ex_flat_list_friends)*100\n",
    "ex_percent_unique = 100-ex_percent_common\n",
    "\n",
    "# Create the data frame of shared friends\n",
    "shared_perc_df = pd.DataFrame({'Plandemic': [pl_percent_common, pl_percent_unique],\n",
    "                               'Explained': [ex_percent_common, ex_percent_unique]},\n",
    "                              index = ['Shared Friends', 'Unique Friends'])\n",
    "\n",
    "# Graph the results \n",
    "fig, ax = shared_perc_df.plot.pie(subplots=True,  autopct = '%1.1f%%', \n",
    "                              explode = [.18,0], figsize=(10,15), shadow =True, startangle = 90,\n",
    "                               textprops={'fontsize': 10}, colors = ['lightsalmon','lightseagreen'])"
   ]
  },
  {
   "cell_type": "markdown",
   "metadata": {},
   "source": [
    "My first research question asked which Twitter accounts are most followed by \"Plandemic\" tweeters. Among the top 10 most followed accounts for the \"Plandemic\" tweeters are Donald Trump, Donald Trump Jr., Tucker Carlson, and Ivanka Trump."
   ]
  },
  {
   "cell_type": "code",
   "execution_count": 219,
   "metadata": {},
   "outputs": [
    {
     "data": {
      "text/plain": [
       "0    realDonaldTrump\n",
       "1              POTUS\n",
       "2        seanhannity\n",
       "3             FLOTUS\n",
       "4        IvankaTrump\n",
       "5         WhiteHouse\n",
       "6     DonaldJTrumpJr\n",
       "7      TuckerCarlson\n",
       "8      JudicialWatch\n",
       "9     RealJamesWoods\n",
       "Name: Username, dtype: object"
      ]
     },
     "execution_count": 219,
     "metadata": {},
     "output_type": "execute_result"
    }
   ],
   "source": [
    "# Show top ten \"Plandemic\" tweeters' friends\n",
    "pl_df['Username'][:10]"
   ]
  },
  {
   "cell_type": "markdown",
   "metadata": {},
   "source": [
    "Between the \"Plandemic\" and \"Explained\" tweeters, the friends lists look much different. "
   ]
  },
  {
   "cell_type": "code",
   "execution_count": 220,
   "metadata": {},
   "outputs": [],
   "source": [
    "# Set top 10 friends for \"Plandemic\" and \"Explained\" tweeters \n",
    "top_10_combined_df = combined_df[:20]"
   ]
  },
  {
   "cell_type": "code",
   "execution_count": 224,
   "metadata": {},
   "outputs": [
    {
     "data": {
      "text/plain": [
       "<matplotlib.legend.Legend at 0x2736b1704c8>"
      ]
     },
     "execution_count": 224,
     "metadata": {},
     "output_type": "execute_result"
    },
    {
     "data": {
      "image/png": "[encoded data removed]",
      "text/plain": [
       "<Figure size 432x288 with 1 Axes>"
      ]
     },
     "metadata": {},
     "output_type": "display_data"
    }
   ],
   "source": [
    "# Graph results \n",
    "sns. set(style = 'whitegrid')\n",
    "ax = sns.barplot(x ='Username', y = 'percentage_followed', palette = 'Set2', hue = 'tweet_type', dodge = False, data = top_10_combined_df)\n",
    "plt.xticks(rotation =90)\n",
    "ax.set(xlabel = 'Most Followed Twitter Accounts', ylabel = 'Percentage of Followers in Sample', title = 'Most Followed Twitter Accounts for Plandemic and Explained Tweeters')\n",
    "ax.legend(title = False)"
   ]
  },
  {
   "cell_type": "markdown",
   "metadata": {},
   "source": [
    "Donald Trump is followed by almost 70% of the sample, when in comparison, the most frequent friend of the \"Explained\" tweeters, Barack Obama, is only followed by 37% of the sample. Across all friends, the \"Plandemic\" tweeters, follow the same accounts at a higher rate than those of the \"Explained\" sample. "
   ]
  },
  {
   "cell_type": "markdown",
   "metadata": {},
   "source": [
    "My second research questions asked what the breadth of accounts look like for the \"Plandemic\" tweeters. "
   ]
  },
  {
   "cell_type": "code",
   "execution_count": 227,
   "metadata": {},
   "outputs": [
    {
     "data": {
      "text/plain": [
       "<matplotlib.legend.Legend at 0x2736c295888>"
      ]
     },
     "execution_count": 227,
     "metadata": {},
     "output_type": "execute_result"
    },
    {
     "data": {
      "image/png": "[encoded data removed]",
      "text/plain": [
       "<Figure size 432x288 with 1 Axes>"
      ]
     },
     "metadata": {},
     "output_type": "display_data"
    }
   ],
   "source": [
    "# Sort data alphabetically by tweet_type \n",
    "combined_df = combined_df.sort_values('tweet_type')\n",
    "\n",
    "# Graph results \n",
    "sns.set(style='whitegrid')\n",
    "ax = sns.countplot(y='category', hue='tweet_type', \n",
    "                   palette='Set2',\n",
    "                   data=combined_df)\n",
    "plt.xticks(rotation=0)\n",
    "ax.set(ylabel='Category Type', xlabel='Frequency',\n",
    "      title='Frequency of Friend Category from Sample (Top 30 Friends)')\n",
    "ax.legend(title=False, loc='lower right')"
   ]
  },
  {
   "cell_type": "markdown",
   "metadata": {},
   "source": [
    "I manually coded the Twitter accounts of the top 30 friends for each group. I used a Google search to determine how each account described itself. The resulting categories are: \n",
    "- Celebrity: someone famous for acting, singing (Ex. Ariana Grande, Ellen Degeneres)\n",
    "- Organization: a public group, not structured for capital impact (Ex. NASA, WikiLeaks)\n",
    "- Company: an organization with a goal to make profit (Ex. YouTube, Twitter)\n",
    "- Democratic politician: member of the Democratic party, not in Obama administration (Ex: Hillary Clinton, Bernie Sanders)\n",
    "- Trump Administration: member of Trump adminstration or Trump family member (Ivanka Trump, Mike Pompeo)\n",
    "- Mainstram News Network: national or global newsource (Ex. CNN, BBC)\n",
    "- Obama Adminstration: member of Obama adminstration or Obama family member (Ex. Barack Obama, Michelle Obama)\n",
    "- Entrepreneur: founder of a company (Ex. Bill Gates, Elon Musk)\n",
    "- Conservative personality: self-described conservative news host or author (Ex. Tucker Carlson, Sean Hannity)\n",
    "- Conservative group: self-described conservative group (Ex. Team Trump, Judicial Watch)\n",
    "- Conservative News Network: self-described conservative news network (Ex. OANN, Britbart News)"
   ]
  },
  {
   "cell_type": "code",
   "execution_count": 245,
   "metadata": {},
   "outputs": [
    {
     "data": {
      "text/html": [
       "<div>\n",
       "<style scoped>\n",
       "    .dataframe tbody tr th:only-of-type {\n",
       "        vertical-align: middle;\n",
       "    }\n",
       "\n",
       "    .dataframe tbody tr th {\n",
       "        vertical-align: top;\n",
       "    }\n",
       "\n",
       "    .dataframe thead th {\n",
       "        text-align: right;\n",
       "    }\n",
       "</style>\n",
       "<table border=\"1\" class=\"dataframe\">\n",
       "  <thead>\n",
       "    <tr style=\"text-align: right;\">\n",
       "      <th></th>\n",
       "      <th>Username</th>\n",
       "      <th>tweet_type</th>\n",
       "      <th>category</th>\n",
       "    </tr>\n",
       "  </thead>\n",
       "  <tbody>\n",
       "    <tr>\n",
       "      <td>14</td>\n",
       "      <td>ArianaGrande</td>\n",
       "      <td>Explained</td>\n",
       "      <td>Celebrity</td>\n",
       "    </tr>\n",
       "    <tr>\n",
       "      <td>2</td>\n",
       "      <td>AOC</td>\n",
       "      <td>Explained</td>\n",
       "      <td>Democratic Politician</td>\n",
       "    </tr>\n",
       "    <tr>\n",
       "      <td>3</td>\n",
       "      <td>CNN</td>\n",
       "      <td>Explained</td>\n",
       "      <td>Mainstream News Network</td>\n",
       "    </tr>\n",
       "    <tr>\n",
       "      <td>7</td>\n",
       "      <td>nytimes</td>\n",
       "      <td>Explained</td>\n",
       "      <td>Mainstream News Network</td>\n",
       "    </tr>\n",
       "    <tr>\n",
       "      <td>1</td>\n",
       "      <td>elonmusk</td>\n",
       "      <td>Explained</td>\n",
       "      <td>Celebrity</td>\n",
       "    </tr>\n",
       "    <tr>\n",
       "      <td>5</td>\n",
       "      <td>HillaryClinton</td>\n",
       "      <td>Explained</td>\n",
       "      <td>Democratic Politician</td>\n",
       "    </tr>\n",
       "    <tr>\n",
       "      <td>8</td>\n",
       "      <td>realDonaldTrump</td>\n",
       "      <td>Explained</td>\n",
       "      <td>Trump Administration</td>\n",
       "    </tr>\n",
       "    <tr>\n",
       "      <td>9</td>\n",
       "      <td>chrissyteigen</td>\n",
       "      <td>Explained</td>\n",
       "      <td>Celebrity</td>\n",
       "    </tr>\n",
       "    <tr>\n",
       "      <td>0</td>\n",
       "      <td>BarackObama</td>\n",
       "      <td>Explained</td>\n",
       "      <td>Obama Administration</td>\n",
       "    </tr>\n",
       "    <tr>\n",
       "      <td>4</td>\n",
       "      <td>BillGates</td>\n",
       "      <td>Explained</td>\n",
       "      <td>Entrepreneur</td>\n",
       "    </tr>\n",
       "    <tr>\n",
       "      <td>29</td>\n",
       "      <td>StephenKing</td>\n",
       "      <td>Explained</td>\n",
       "      <td>Celebrity</td>\n",
       "    </tr>\n",
       "    <tr>\n",
       "      <td>10</td>\n",
       "      <td>cnnbrk</td>\n",
       "      <td>Explained</td>\n",
       "      <td>Mainstream News Network</td>\n",
       "    </tr>\n",
       "    <tr>\n",
       "      <td>21</td>\n",
       "      <td>BBCBreaking</td>\n",
       "      <td>Explained</td>\n",
       "      <td>Mainstream News Network</td>\n",
       "    </tr>\n",
       "    <tr>\n",
       "      <td>28</td>\n",
       "      <td>Twitter</td>\n",
       "      <td>Explained</td>\n",
       "      <td>Company</td>\n",
       "    </tr>\n",
       "    <tr>\n",
       "      <td>27</td>\n",
       "      <td>MichelleObama</td>\n",
       "      <td>Explained</td>\n",
       "      <td>Obama Administration</td>\n",
       "    </tr>\n",
       "    <tr>\n",
       "      <td>6</td>\n",
       "      <td>POTUS44</td>\n",
       "      <td>Explained</td>\n",
       "      <td>Obama Administration</td>\n",
       "    </tr>\n",
       "    <tr>\n",
       "      <td>25</td>\n",
       "      <td>Drake</td>\n",
       "      <td>Explained</td>\n",
       "      <td>Celebrity</td>\n",
       "    </tr>\n",
       "    <tr>\n",
       "      <td>12</td>\n",
       "      <td>NASA</td>\n",
       "      <td>Explained</td>\n",
       "      <td>Organization</td>\n",
       "    </tr>\n",
       "    <tr>\n",
       "      <td>13</td>\n",
       "      <td>DalaiLama</td>\n",
       "      <td>Explained</td>\n",
       "      <td>Celebrity</td>\n",
       "    </tr>\n",
       "    <tr>\n",
       "      <td>15</td>\n",
       "      <td>TheEllenShow</td>\n",
       "      <td>Explained</td>\n",
       "      <td>Celebrity</td>\n",
       "    </tr>\n",
       "    <tr>\n",
       "      <td>26</td>\n",
       "      <td>UberFacts</td>\n",
       "      <td>Explained</td>\n",
       "      <td>Company</td>\n",
       "    </tr>\n",
       "    <tr>\n",
       "      <td>17</td>\n",
       "      <td>rihanna</td>\n",
       "      <td>Explained</td>\n",
       "      <td>Celebrity</td>\n",
       "    </tr>\n",
       "    <tr>\n",
       "      <td>18</td>\n",
       "      <td>YouTube</td>\n",
       "      <td>Explained</td>\n",
       "      <td>Company</td>\n",
       "    </tr>\n",
       "    <tr>\n",
       "      <td>16</td>\n",
       "      <td>SpaceX</td>\n",
       "      <td>Explained</td>\n",
       "      <td>Company</td>\n",
       "    </tr>\n",
       "    <tr>\n",
       "      <td>11</td>\n",
       "      <td>KimKardashian</td>\n",
       "      <td>Explained</td>\n",
       "      <td>Celebrity</td>\n",
       "    </tr>\n",
       "    <tr>\n",
       "      <td>20</td>\n",
       "      <td>RobertDowneyJr</td>\n",
       "      <td>Explained</td>\n",
       "      <td>Celebrity</td>\n",
       "    </tr>\n",
       "    <tr>\n",
       "      <td>22</td>\n",
       "      <td>BernieSanders</td>\n",
       "      <td>Explained</td>\n",
       "      <td>Democratic Politician</td>\n",
       "    </tr>\n",
       "    <tr>\n",
       "      <td>23</td>\n",
       "      <td>POTUS</td>\n",
       "      <td>Explained</td>\n",
       "      <td>Trump Administration</td>\n",
       "    </tr>\n",
       "    <tr>\n",
       "      <td>24</td>\n",
       "      <td>BBCWorld</td>\n",
       "      <td>Explained</td>\n",
       "      <td>Mainstream News Network</td>\n",
       "    </tr>\n",
       "    <tr>\n",
       "      <td>19</td>\n",
       "      <td>jimmyfallon</td>\n",
       "      <td>Explained</td>\n",
       "      <td>Celebrity</td>\n",
       "    </tr>\n",
       "    <tr>\n",
       "      <td>12</td>\n",
       "      <td>PressSec</td>\n",
       "      <td>Plandemic</td>\n",
       "      <td>Trump Administration</td>\n",
       "    </tr>\n",
       "    <tr>\n",
       "      <td>8</td>\n",
       "      <td>JudicialWatch</td>\n",
       "      <td>Plandemic</td>\n",
       "      <td>Conservative Group</td>\n",
       "    </tr>\n",
       "    <tr>\n",
       "      <td>13</td>\n",
       "      <td>RealCandaceO</td>\n",
       "      <td>Plandemic</td>\n",
       "      <td>Conservative Personality</td>\n",
       "    </tr>\n",
       "    <tr>\n",
       "      <td>14</td>\n",
       "      <td>OANN</td>\n",
       "      <td>Plandemic</td>\n",
       "      <td>Conservative News Network</td>\n",
       "    </tr>\n",
       "    <tr>\n",
       "      <td>21</td>\n",
       "      <td>DiamondandSilk</td>\n",
       "      <td>Plandemic</td>\n",
       "      <td>Conservative Group</td>\n",
       "    </tr>\n",
       "    <tr>\n",
       "      <td>19</td>\n",
       "      <td>TeamTrump</td>\n",
       "      <td>Plandemic</td>\n",
       "      <td>Conservative Group</td>\n",
       "    </tr>\n",
       "    <tr>\n",
       "      <td>7</td>\n",
       "      <td>TuckerCarlson</td>\n",
       "      <td>Plandemic</td>\n",
       "      <td>Conservative Personality</td>\n",
       "    </tr>\n",
       "    <tr>\n",
       "      <td>16</td>\n",
       "      <td>JudgeJeanine</td>\n",
       "      <td>Plandemic</td>\n",
       "      <td>Conservative Personality</td>\n",
       "    </tr>\n",
       "    <tr>\n",
       "      <td>17</td>\n",
       "      <td>EricTrump</td>\n",
       "      <td>Plandemic</td>\n",
       "      <td>Trump Administration</td>\n",
       "    </tr>\n",
       "    <tr>\n",
       "      <td>6</td>\n",
       "      <td>DonaldJTrumpJr</td>\n",
       "      <td>Plandemic</td>\n",
       "      <td>Trump Administration</td>\n",
       "    </tr>\n",
       "    <tr>\n",
       "      <td>18</td>\n",
       "      <td>marklevinshow</td>\n",
       "      <td>Plandemic</td>\n",
       "      <td>Conservative Personality</td>\n",
       "    </tr>\n",
       "    <tr>\n",
       "      <td>11</td>\n",
       "      <td>KellyannePolls</td>\n",
       "      <td>Plandemic</td>\n",
       "      <td>Trump Administration</td>\n",
       "    </tr>\n",
       "    <tr>\n",
       "      <td>29</td>\n",
       "      <td>BreitbartNews</td>\n",
       "      <td>Plandemic</td>\n",
       "      <td>Conservative News Network</td>\n",
       "    </tr>\n",
       "    <tr>\n",
       "      <td>9</td>\n",
       "      <td>RealJamesWoods</td>\n",
       "      <td>Plandemic</td>\n",
       "      <td>Celebrity</td>\n",
       "    </tr>\n",
       "    <tr>\n",
       "      <td>27</td>\n",
       "      <td>wikileaks</td>\n",
       "      <td>Plandemic</td>\n",
       "      <td>Organization</td>\n",
       "    </tr>\n",
       "    <tr>\n",
       "      <td>5</td>\n",
       "      <td>WhiteHouse</td>\n",
       "      <td>Plandemic</td>\n",
       "      <td>Trump Administration</td>\n",
       "    </tr>\n",
       "    <tr>\n",
       "      <td>25</td>\n",
       "      <td>PrisonPlanet</td>\n",
       "      <td>Plandemic</td>\n",
       "      <td>Conservative Personality</td>\n",
       "    </tr>\n",
       "    <tr>\n",
       "      <td>24</td>\n",
       "      <td>charliekirk11</td>\n",
       "      <td>Plandemic</td>\n",
       "      <td>Conservative Personality</td>\n",
       "    </tr>\n",
       "    <tr>\n",
       "      <td>28</td>\n",
       "      <td>SecPompeo</td>\n",
       "      <td>Plandemic</td>\n",
       "      <td>Trump Administration</td>\n",
       "    </tr>\n",
       "    <tr>\n",
       "      <td>1</td>\n",
       "      <td>POTUS</td>\n",
       "      <td>Plandemic</td>\n",
       "      <td>Trump Administration</td>\n",
       "    </tr>\n",
       "    <tr>\n",
       "      <td>26</td>\n",
       "      <td>DineshDSouza</td>\n",
       "      <td>Plandemic</td>\n",
       "      <td>Conservative Personality</td>\n",
       "    </tr>\n",
       "    <tr>\n",
       "      <td>2</td>\n",
       "      <td>seanhannity</td>\n",
       "      <td>Plandemic</td>\n",
       "      <td>Conservative Personality</td>\n",
       "    </tr>\n",
       "    <tr>\n",
       "      <td>4</td>\n",
       "      <td>IvankaTrump</td>\n",
       "      <td>Plandemic</td>\n",
       "      <td>Trump Administration</td>\n",
       "    </tr>\n",
       "    <tr>\n",
       "      <td>10</td>\n",
       "      <td>dbongino</td>\n",
       "      <td>Plandemic</td>\n",
       "      <td>Conservative Personality</td>\n",
       "    </tr>\n",
       "    <tr>\n",
       "      <td>3</td>\n",
       "      <td>FLOTUS</td>\n",
       "      <td>Plandemic</td>\n",
       "      <td>Trump Administration</td>\n",
       "    </tr>\n",
       "    <tr>\n",
       "      <td>23</td>\n",
       "      <td>IngrahamAngle</td>\n",
       "      <td>Plandemic</td>\n",
       "      <td>Conservative Personality</td>\n",
       "    </tr>\n",
       "    <tr>\n",
       "      <td>22</td>\n",
       "      <td>TomFitton</td>\n",
       "      <td>Plandemic</td>\n",
       "      <td>Conservative Personality</td>\n",
       "    </tr>\n",
       "    <tr>\n",
       "      <td>15</td>\n",
       "      <td>VP</td>\n",
       "      <td>Plandemic</td>\n",
       "      <td>Trump Administration</td>\n",
       "    </tr>\n",
       "    <tr>\n",
       "      <td>20</td>\n",
       "      <td>Mike_Pence</td>\n",
       "      <td>Plandemic</td>\n",
       "      <td>Trump Administration</td>\n",
       "    </tr>\n",
       "    <tr>\n",
       "      <td>0</td>\n",
       "      <td>realDonaldTrump</td>\n",
       "      <td>Plandemic</td>\n",
       "      <td>Trump Administration</td>\n",
       "    </tr>\n",
       "  </tbody>\n",
       "</table>\n",
       "</div>"
      ],
      "text/plain": [
       "            Username tweet_type                   category\n",
       "14      ArianaGrande  Explained                  Celebrity\n",
       "2                AOC  Explained      Democratic Politician\n",
       "3                CNN  Explained    Mainstream News Network\n",
       "7            nytimes  Explained    Mainstream News Network\n",
       "1           elonmusk  Explained                  Celebrity\n",
       "5     HillaryClinton  Explained      Democratic Politician\n",
       "8    realDonaldTrump  Explained       Trump Administration\n",
       "9      chrissyteigen  Explained                  Celebrity\n",
       "0        BarackObama  Explained       Obama Administration\n",
       "4          BillGates  Explained               Entrepreneur\n",
       "29       StephenKing  Explained                  Celebrity\n",
       "10            cnnbrk  Explained    Mainstream News Network\n",
       "21       BBCBreaking  Explained    Mainstream News Network\n",
       "28           Twitter  Explained                    Company\n",
       "27     MichelleObama  Explained       Obama Administration\n",
       "6            POTUS44  Explained       Obama Administration\n",
       "25             Drake  Explained                  Celebrity\n",
       "12              NASA  Explained               Organization\n",
       "13         DalaiLama  Explained                  Celebrity\n",
       "15      TheEllenShow  Explained                  Celebrity\n",
       "26         UberFacts  Explained                    Company\n",
       "17           rihanna  Explained                  Celebrity\n",
       "18           YouTube  Explained                    Company\n",
       "16            SpaceX  Explained                    Company\n",
       "11     KimKardashian  Explained                  Celebrity\n",
       "20    RobertDowneyJr  Explained                  Celebrity\n",
       "22     BernieSanders  Explained      Democratic Politician\n",
       "23             POTUS  Explained       Trump Administration\n",
       "24          BBCWorld  Explained    Mainstream News Network\n",
       "19       jimmyfallon  Explained                  Celebrity\n",
       "12          PressSec  Plandemic       Trump Administration\n",
       "8      JudicialWatch  Plandemic         Conservative Group\n",
       "13      RealCandaceO  Plandemic   Conservative Personality\n",
       "14              OANN  Plandemic  Conservative News Network\n",
       "21    DiamondandSilk  Plandemic         Conservative Group\n",
       "19         TeamTrump  Plandemic         Conservative Group\n",
       "7      TuckerCarlson  Plandemic   Conservative Personality\n",
       "16      JudgeJeanine  Plandemic   Conservative Personality\n",
       "17         EricTrump  Plandemic       Trump Administration\n",
       "6     DonaldJTrumpJr  Plandemic       Trump Administration\n",
       "18     marklevinshow  Plandemic   Conservative Personality\n",
       "11    KellyannePolls  Plandemic       Trump Administration\n",
       "29     BreitbartNews  Plandemic  Conservative News Network\n",
       "9     RealJamesWoods  Plandemic                  Celebrity\n",
       "27         wikileaks  Plandemic               Organization\n",
       "5         WhiteHouse  Plandemic       Trump Administration\n",
       "25      PrisonPlanet  Plandemic   Conservative Personality\n",
       "24     charliekirk11  Plandemic   Conservative Personality\n",
       "28         SecPompeo  Plandemic       Trump Administration\n",
       "1              POTUS  Plandemic       Trump Administration\n",
       "26      DineshDSouza  Plandemic   Conservative Personality\n",
       "2        seanhannity  Plandemic   Conservative Personality\n",
       "4        IvankaTrump  Plandemic       Trump Administration\n",
       "10          dbongino  Plandemic   Conservative Personality\n",
       "3             FLOTUS  Plandemic       Trump Administration\n",
       "23     IngrahamAngle  Plandemic   Conservative Personality\n",
       "22         TomFitton  Plandemic   Conservative Personality\n",
       "15                VP  Plandemic       Trump Administration\n",
       "20        Mike_Pence  Plandemic       Trump Administration\n",
       "0    realDonaldTrump  Plandemic       Trump Administration"
      ]
     },
     "execution_count": 245,
     "metadata": {},
     "output_type": "execute_result"
    }
   ],
   "source": [
    "# Show categories for users in each Tweet Type \n",
    "combined_df[['Username', 'tweet_type', 'category', ]].sort_values('tweet_type')"
   ]
  },
  {
   "cell_type": "markdown",
   "metadata": {},
   "source": [
    "These results suggest that the \"Plandemic\" tweeters have less breadth in the type of friends they followed. \"Plandemic\" tweeters' friends could be grouped into six categories in contrast to \"Explained\" tweeters who could be grouped into eight categories. Further, of the five categories followed in the \"Plandemic\" group, four could be categorized as \"Conservative\": Trump administration, Conservative personality, Conservative group, and Conservative News Network. This suggests that the individuals who tweeted \"Plandemic\" are more likely to follow conservative Twitter accounts. Further, this might suggest that conservative Twitter accounts are more likely to spread and share misinformaiton about COVID-19. "
   ]
  },
  {
   "cell_type": "markdown",
   "metadata": {},
   "source": [
    "## Discussion"
   ]
  },
  {
   "cell_type": "markdown",
   "metadata": {},
   "source": [
    "The primary conclusion we can draw from this study is that individuals who shared the \"Plandemic\" documentary were more likely to follow Twitter accounts that promote conservative messaging. Among the top 10 most followed accounts for \"Plandemic\" tweeters, all can be linked to conservative groups or the Trump administration. This may be cause for concern because it may mean that \"Plandemic\" tweeters are being exposed to messaging that promotes harmful messages about COVID-19. \"Explained\" tweeters were much more likely to follow celebrity accounts and had a wider range of categories they followed. This may suggest that \"Explained\" tweeters are consuming media from many different sources. \n",
    "\n",
    "### Limitations\n",
    "The sample size of this project was smaller than I would have hoped. *But, to be honest, I actually retrieved 500 friends lists but accidentally wrote over the file and the top 10 list matched across seven of the usernames, so I think the results might have been representative of the population.* If I were to run this study again, I think 350 friends list would help with the power and representativeness of this study. \n",
    "\n",
    "Additionally, I am worried that the control group was not a control. I think this study could be stronger if compared to a population of general Twitter users. This may add another element to the study and provide a broader control group from which to compare. \n",
    "\n",
    "Finally, I did not exclude \"Plandemic\" tweeters from the Netflix \"Explained\" tweeters list. There is a chance there was overlap, and I will need to go back and make sure there are no shared usernames in the list. \n"
   ]
  },
  {
   "cell_type": "markdown",
   "metadata": {},
   "source": [
    "### Conclusion\n",
    "\n",
    "Overall, this study is a reminder that the media we consume can influence our attitudes and beliefs. In this example, a conspiracy theory was more likely to be shared by individuals who mostly follow conservative accounts. Be careful about what you share and think about where your information is coming from. "
   ]
  },
  {
   "cell_type": "markdown",
   "metadata": {},
   "source": [
    "## References\n",
    "\n",
    "Bryant, J., & Miron, D. (2004). Theory and research in mass communication. Journal of Communication, 54(4), 662–704. https://doi.org/10.1111/j.1460-2466.2004.tb02650.x\n",
    "\n",
    "Enserink, M., & Cohen, J. (2020, May 8). Fact-checking Judy Mikovits, the controversial virologist attacking Anthony Fauci in a viral conspiracy video. Science. https://www.sciencemag.org/news/2020/05/fact-checking-judy-mikovits-controversial-virologist-attacking-anthony-fauci-viral\n",
    "\n",
    "Frenkel, S., & Alba, D. (2020, May 20). How the ‘Plandemic’ Movie and Its Falsehoods Spread Widely Online. The New York Times. https://www.nytimes.com/2020/05/20/technology/plandemic-movie-youtube-facebook-coronavirus.html\n",
    "\n",
    "Funke, D. (2020, May 11). PolitiFact: Fact-checking ‘Plandemic,’ a documentary full of false conspiracy theories on the coronavirus. Tampa Bay Times.\n",
    "\n",
    "Gerbner, G., & Gross, L. (1976). Living With Television: The Violence Profile. Journal of Communication, 26(2), 172–194. https://doi.org/10.1111/j.1460-2466.1976.tb01397.x\n"
   ]
  }
 ],
 "metadata": {
  "kernelspec": {
   "display_name": "Python 3",
   "language": "python",
   "name": "python3"
  },
  "language_info": {
   "codemirror_mode": {
    "name": "ipython",
    "version": 3
   },
   "file_extension": ".py",
   "mimetype": "text/x-python",
   "name": "python",
   "nbconvert_exporter": "python",
   "pygments_lexer": "ipython3",
   "version": "3.7.4"
  }
 },
 "nbformat": 4,
 "nbformat_minor": 2
}
