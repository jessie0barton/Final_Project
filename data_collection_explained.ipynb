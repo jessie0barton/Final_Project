{
 "cells": [
  {
   "cell_type": "code",
   "execution_count": 1,
   "metadata": {},
   "outputs": [],
   "source": [
    "import tweepy"
   ]
  },
  {
   "cell_type": "code",
   "execution_count": 2,
   "metadata": {},
   "outputs": [],
   "source": [
    "from twitter_authentication import CONSUMER_KEY, CONSUMER_SECRET, ACCESS_TOKEN, ACCESS_TOKEN_SECRET\n",
    "\n",
    "auth = tweepy.OAuthHandler(CONSUMER_KEY, CONSUMER_SECRET)\n",
    "auth.set_access_token(ACCESS_TOKEN, ACCESS_TOKEN_SECRET)\n",
    "\n",
    "api = tweepy.API(auth, wait_on_rate_limit = True, wait_on_rate_limit_notify=True)"
   ]
  },
  {
   "cell_type": "code",
   "execution_count": 8,
   "metadata": {},
   "outputs": [
    {
     "name": "stdout",
     "output_type": "stream",
     "text": [
      "Tweets collected!\n",
      "1000 tweets written\n",
      "2000 tweets written\n",
      "3000 tweets written\n",
      "4000 tweets written\n",
      "5000 tweets written\n",
      "6000 tweets written\n",
      "7000 tweets written\n",
      "8000 tweets written\n",
      "9000 tweets written\n",
      "10000 tweets written\n"
     ]
    }
   ],
   "source": [
    "import GetOldTweets3 as got\n",
    "import csv\n",
    "\n",
    "# Set search criteria\n",
    "tweetCriteria_netflix  = got.manager.TweetCriteria().setQuerySearch('Netflix Explained OR Netflixexplained ').setSince('2020-01-01').setUntil('2020-05-30').setMaxTweets(10000)\n",
    "\n",
    "# Get tweets from the search\n",
    "#tweets = got.manager.TweetManager.getTweets(tweetCriteria_netflix)\n",
    "print('Tweets collected!')\n",
    "\n",
    "counter = 0\n",
    "# Filter tweets\n",
    "for tweet in tweets:\n",
    "    counter += 1\n",
    "    if counter % 1000 == 0:\n",
    "        print('%d tweets written' % counter)\n",
    "\n",
    "      # Write csv file\n",
    "    with open('tweets_explained.csv', 'w', encoding = 'utf-8') as fn:                    \n",
    "        f = csv.writer(fn)\n",
    "        f.writerow(['tweet_text',\n",
    "                    'username',\n",
    "                    'date',\n",
    "                    'retweets',\n",
    "                    'favorites'\n",
    "                   ])\n",
    "        for tweet in tweets:\n",
    "            f.writerow([tweet.text, \n",
    "                        tweet.username,\n",
    "                        tweet.date,\n",
    "                        tweet.retweets,\n",
    "                        tweet.favorites\n",
    "                             ])"
   ]
  },
  {
   "cell_type": "code",
   "execution_count": 32,
   "metadata": {},
   "outputs": [],
   "source": [
    "import pandas as pd\n",
    "\n",
    "df_tweets = pd.read_csv('tweets_explained.csv')\n",
    "username_list = df_tweets.username.unique()"
   ]
  },
  {
   "cell_type": "code",
   "execution_count": 12,
   "metadata": {},
   "outputs": [
    {
     "name": "stdout",
     "output_type": "stream",
     "text": [
      "1 969\n",
      "2 2749\n",
      "3 982\n",
      "4 353\n"
     ]
    },
    {
     "name": "stderr",
     "output_type": "stream",
     "text": [
      "Rate limit reached. Sleeping for: 702\n"
     ]
    },
    {
     "name": "stdout",
     "output_type": "stream",
     "text": [
      "5 33\n",
      "6 1797\n",
      "7 10\n",
      "8 549\n",
      "9 467\n",
      "10 119\n",
      "11 519\n",
      "12 271\n",
      "13 699\n",
      "14 109\n",
      "15 550\n",
      "16 539\n",
      "17 227\n",
      "18 353\n",
      "19 876\n"
     ]
    },
    {
     "name": "stderr",
     "output_type": "stream",
     "text": [
      "Rate limit reached. Sleeping for: 957\n"
     ]
    },
    {
     "name": "stdout",
     "output_type": "stream",
     "text": [
      "20 119\n",
      "21 28\n",
      "22 214\n",
      "23 1841\n",
      "24 118\n",
      "25 678\n",
      "26 732\n",
      "27 259\n",
      "28 328\n",
      "29 207\n",
      "30 184\n",
      "31 608\n",
      "32 189\n",
      "33 278\n",
      "34 327\n"
     ]
    },
    {
     "name": "stderr",
     "output_type": "stream",
     "text": [
      "Rate limit reached. Sleeping for: 957\n"
     ]
    },
    {
     "name": "stdout",
     "output_type": "stream",
     "text": [
      "35 178\n",
      "36 454\n",
      "37 21\n",
      "38 4757\n",
      "39 1418\n",
      "40 2290\n",
      "41 119\n",
      "42 398\n",
      "43 313\n",
      "44 580\n",
      "45 960\n",
      "46 142\n",
      "47 484\n",
      "48 451\n",
      "49 14\n"
     ]
    },
    {
     "name": "stderr",
     "output_type": "stream",
     "text": [
      "Rate limit reached. Sleeping for: 957\n"
     ]
    },
    {
     "name": "stdout",
     "output_type": "stream",
     "text": [
      "50 147\n",
      "51 365\n",
      "52 2992\n",
      "53 443\n",
      "54 231\n",
      "55 213\n",
      "56 250\n",
      "57 480\n",
      "58 119\n",
      "59 268\n",
      "60 1209\n",
      "61 619\n",
      "62 267\n",
      "63 677\n",
      "64 325\n"
     ]
    },
    {
     "name": "stderr",
     "output_type": "stream",
     "text": [
      "Rate limit reached. Sleeping for: 957\n"
     ]
    },
    {
     "name": "stdout",
     "output_type": "stream",
     "text": [
      "65 1510\n",
      "66 108\n",
      "67 158\n",
      "68 2551\n",
      "69 1886\n",
      "70 437\n",
      "71 1836\n",
      "72 946\n",
      "73 987\n",
      "74 916\n",
      "75 1645\n",
      "76 543\n",
      "77 770\n",
      "78 211\n"
     ]
    },
    {
     "name": "stderr",
     "output_type": "stream",
     "text": [
      "Rate limit reached. Sleeping for: 957\n"
     ]
    },
    {
     "name": "stdout",
     "output_type": "stream",
     "text": [
      "79 636\n",
      "80 392\n",
      "81 300\n",
      "82 87\n",
      "83 294\n",
      "84 182\n",
      "85 65\n",
      "86 243\n",
      "87 272\n",
      "88 806\n",
      "89 588\n",
      "90 85\n",
      "91 836\n",
      "92 2010\n",
      "93 91\n"
     ]
    },
    {
     "name": "stderr",
     "output_type": "stream",
     "text": [
      "Rate limit reached. Sleeping for: 957\n"
     ]
    },
    {
     "name": "stdout",
     "output_type": "stream",
     "text": [
      "94 1589\n",
      "95 484\n",
      "96 640\n",
      "97 70\n",
      "98 440\n"
     ]
    }
   ],
   "source": [
    "import json\n",
    "import random\n",
    "import numpy as np\n",
    "\n",
    "# Create dictionary of usernames\n",
    "#friends_list = {}\n",
    "\n",
    "#Get random sample of usernames from the username list\n",
    "# Set sample size; for time purposes, limited to 100 here\n",
    "sample_size = 100\n",
    "random_sample_usernames = np.random.choice(username_list, sample_size)\n",
    "\n",
    "for username in random_sample_usernames: \n",
    "    try:\n",
    "        friends = []\n",
    "        for page in tweepy.Cursor(api.friends_ids, username).pages():\n",
    "            friends.extend(page)\n",
    "            if len(page) == 5000: \n",
    "                time.sleep(2)\n",
    "\n",
    "        friends_list[username] = friends\n",
    "        print(len(friends_list.keys()), len(friends))\n",
    "    except:\n",
    "        pass\n",
    "    \n",
    "#with open('sample-explained-tweeters-friends.json', 'w') as f:\n",
    "    json.dump(friends_list,f)"
   ]
  }
 ],
 "metadata": {
  "kernelspec": {
   "display_name": "Python 3",
   "language": "python",
   "name": "python3"
  },
  "language_info": {
   "codemirror_mode": {
    "name": "ipython",
    "version": 3
   },
   "file_extension": ".py",
   "mimetype": "text/x-python",
   "name": "python",
   "nbconvert_exporter": "python",
   "pygments_lexer": "ipython3",
   "version": "3.7.4"
  }
 },
 "nbformat": 4,
 "nbformat_minor": 2
}
