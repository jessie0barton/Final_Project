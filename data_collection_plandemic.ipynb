{
 "cells": [
  {
   "cell_type": "code",
   "execution_count": 1,
   "metadata": {},
   "outputs": [],
   "source": [
    "import tweepy\n",
    "import json"
   ]
  },
  {
   "cell_type": "code",
   "execution_count": 10,
   "metadata": {},
   "outputs": [],
   "source": [
    "from twitter_authentication import CONSUMER_KEY, CONSUMER_SECRET, ACCESS_TOKEN, ACCESS_TOKEN_SECRET\n",
    "\n",
    "auth = tweepy.OAuthHandler(CONSUMER_KEY, CONSUMER_SECRET)\n",
    "auth.set_access_token(ACCESS_TOKEN, ACCESS_TOKEN_SECRET)\n",
    "\n",
    "api = tweepy.API(auth, wait_on_rate_limit = True, wait_on_rate_limit_notify=True)"
   ]
  },
  {
   "cell_type": "code",
   "execution_count": 5,
   "metadata": {},
   "outputs": [
    {
     "name": "stdout",
     "output_type": "stream",
     "text": [
      "Tweets collected!\n",
      "1000 tweets written\n",
      "2000 tweets written\n",
      "3000 tweets written\n",
      "4000 tweets written\n",
      "5000 tweets written\n",
      "6000 tweets written\n",
      "7000 tweets written\n",
      "8000 tweets written\n",
      "9000 tweets written\n",
      "10000 tweets written\n"
     ]
    }
   ],
   "source": [
    "import GetOldTweets3 as got\n",
    "import csv\n",
    "\n",
    "# Set search criteria\n",
    "tweetCriteria  = got.manager.TweetCriteria().setQuerySearch('plandemic AND youtu.be OR bitchute OR Vimeo').setSince('2020-05-04').setUntil('2020-05-09').setMaxTweets(10000)\n",
    "\n",
    "# Get tweets from the search\n",
    "tweets = got.manager.TweetManager.getTweets(tweetCriteria)\n",
    "print('Tweets collected!')\n",
    "\n",
    "# Counter for progress\n",
    "counter = 0\n",
    "\n",
    "for tweet in tweets:\n",
    "    counter += 1\n",
    "    if counter % 1000 == 0:\n",
    "        print('%d tweets written' % counter)\n",
    "        \n",
    "    # Filter tweets    \n",
    "    if ('fact-checks' not in tweet.text) and ('fact checks' not in tweet.text) and ('fact check' not in tweet.text) and ('fact-check' not in tweet.text):\n",
    "          \n",
    "        # Write csv file\n",
    "        with open('tweets_plandemic.csv', 'w', encoding = 'utf-8') as fn:                    \n",
    "            f = csv.writer(fn)\n",
    "            f.writerow(['tweet_text',\n",
    "                        'username',\n",
    "                        'date',\n",
    "                        'retweets',\n",
    "                        'favorites'\n",
    "                       ])\n",
    "            for tweet in tweets:\n",
    "                f.writerow([tweet.text, \n",
    "                            tweet.username,\n",
    "                            tweet.date,\n",
    "                            tweet.retweets,\n",
    "                            tweet.favorites\n",
    "                                 ])"
   ]
  },
  {
   "cell_type": "code",
   "execution_count": 27,
   "metadata": {},
   "outputs": [],
   "source": [
    "import pandas as pd\n",
    "df_tweets = pd.read_csv('tweets_plandemic.csv')\n",
    "username_list = df_tweets.username.unique()"
   ]
  },
  {
   "cell_type": "code",
   "execution_count": 7,
   "metadata": {},
   "outputs": [
    {
     "name": "stdout",
     "output_type": "stream",
     "text": [
      "1 1191\n",
      "2 134\n",
      "3 3536\n",
      "4 66\n",
      "5 186\n",
      "6 502\n",
      "7 2037\n",
      "8 703\n",
      "9 25\n",
      "10 1545\n",
      "11 213\n",
      "12 534\n",
      "13 909\n",
      "14 40\n"
     ]
    },
    {
     "name": "stderr",
     "output_type": "stream",
     "text": [
      "Rate limit reached. Sleeping for: 957\n"
     ]
    },
    {
     "name": "stdout",
     "output_type": "stream",
     "text": [
      "15 0\n",
      "16 292\n",
      "17 878\n",
      "18 3269\n",
      "19 900\n",
      "20 53\n",
      "21 87\n",
      "22 63\n",
      "23 24\n",
      "24 557\n",
      "25 244\n",
      "26 232\n",
      "27 44\n",
      "28 2168\n",
      "29 466\n"
     ]
    },
    {
     "name": "stderr",
     "output_type": "stream",
     "text": [
      "Rate limit reached. Sleeping for: 957\n"
     ]
    },
    {
     "name": "stdout",
     "output_type": "stream",
     "text": [
      "30 309\n",
      "31 25\n",
      "32 276\n",
      "33 121\n",
      "34 730\n",
      "35 1261\n",
      "36 4998\n",
      "37 175\n",
      "38 109\n",
      "39 800\n",
      "40 361\n",
      "41 11\n",
      "42 4\n"
     ]
    },
    {
     "name": "stderr",
     "output_type": "stream",
     "text": [
      "Rate limit reached. Sleeping for: 957\n"
     ]
    },
    {
     "name": "stdout",
     "output_type": "stream",
     "text": [
      "43 3001\n",
      "44 519\n",
      "45 121\n",
      "46 155\n",
      "47 27\n",
      "48 51\n",
      "49 2380\n",
      "50 8\n",
      "51 7\n",
      "52 386\n",
      "53 1104\n",
      "54 24\n",
      "55 102\n",
      "56 1297\n"
     ]
    },
    {
     "name": "stderr",
     "output_type": "stream",
     "text": [
      "Rate limit reached. Sleeping for: 957\n"
     ]
    },
    {
     "name": "stdout",
     "output_type": "stream",
     "text": [
      "57 42\n",
      "58 998\n",
      "59 1220\n",
      "60 211\n",
      "61 4371\n",
      "62 386\n",
      "63 384\n",
      "64 4298\n",
      "65 1756\n",
      "66 4892\n",
      "67 165\n",
      "68 2188\n",
      "69 4882\n",
      "70 1070\n"
     ]
    },
    {
     "name": "stderr",
     "output_type": "stream",
     "text": [
      "Rate limit reached. Sleeping for: 956\n"
     ]
    },
    {
     "name": "stdout",
     "output_type": "stream",
     "text": [
      "71 108\n",
      "72 129\n",
      "73 736\n",
      "74 2236\n",
      "75 109\n",
      "76 3\n",
      "77 180\n",
      "78 386\n",
      "79 218\n",
      "80 1105\n",
      "81 2501\n",
      "82 342\n",
      "83 603\n",
      "84 7\n"
     ]
    },
    {
     "name": "stderr",
     "output_type": "stream",
     "text": [
      "Rate limit reached. Sleeping for: 957\n"
     ]
    },
    {
     "name": "stdout",
     "output_type": "stream",
     "text": [
      "85 647\n",
      "86 58\n",
      "87 973\n",
      "88 152\n",
      "89 138\n",
      "90 3129\n",
      "91 357\n",
      "92 249\n",
      "93 356\n",
      "94 437\n"
     ]
    }
   ],
   "source": [
    "import random\n",
    "import numpy as np\n",
    "\n",
    "# Create dictionary of usernames\n",
    "friends_list = {}\n",
    "\n",
    "# Get random sample of usernames from the username list\n",
    "# Set sample size\n",
    "sample_size = 100\n",
    "random_sample_usernames = np.random.choice(username_list, sample_size)\n",
    "\n",
    "for username in random_sample_usernames: \n",
    "    try:\n",
    "        friends = []\n",
    "        for page in tweepy.Cursor(api.friends_ids, username).pages():\n",
    "            friends.extend(page)\n",
    "            if len(page) == 5000: \n",
    "                time.sleep(2)\n",
    "\n",
    "        friends_list[username] = friends\n",
    "        print(len(friends_list.keys()), len(friends))\n",
    "    except:\n",
    "        pass\n",
    "    \n",
    "with open('sample-plandemic-tweeters-friends.json', 'w') as f:\n",
    "    json.dump(friends_list,f)"
   ]
  }
 ],
 "metadata": {
  "kernelspec": {
   "display_name": "Python 3",
   "language": "python",
   "name": "python3"
  },
  "language_info": {
   "codemirror_mode": {
    "name": "ipython",
    "version": 3
   },
   "file_extension": ".py",
   "mimetype": "text/x-python",
   "name": "python",
   "nbconvert_exporter": "python",
   "pygments_lexer": "ipython3",
   "version": "3.7.4"
  }
 },
 "nbformat": 4,
 "nbformat_minor": 2
}
